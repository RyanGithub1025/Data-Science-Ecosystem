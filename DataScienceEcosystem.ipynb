{
  "metadata": {
    "kernelspec": {
      "name": "python",
      "display_name": "Python (Pyodide)",
      "language": "python"
    },
    "language_info": {
      "codemirror_mode": {
        "name": "python",
        "version": 3
      },
      "file_extension": ".py",
      "mimetype": "text/x-python",
      "name": "python",
      "nbconvert_exporter": "python",
      "pygments_lexer": "ipython3",
      "version": "3.8"
    }
  },
  "nbformat_minor": 4,
  "nbformat": 4,
  "cells": [
    {
      "cell_type": "markdown",
      "source": "# 'Data Science Tools and Ecosystem'",
      "metadata": {}
    },
    {
      "cell_type": "markdown",
      "source": "# 'In this notebook, Data Science Tools and Ecosystem are summarized.'",
      "metadata": {}
    },
    {
      "cell_type": "code",
      "source": "",
      "metadata": {
        "trusted": true
      },
      "outputs": [],
      "execution_count": null
    },
    {
      "cell_type": "markdown",
      "source": "# 'Some of the popular languages that Data Scientists use are:\n1. Libraries\n2. APIs\n3. Datasets\n4. Models Module",
      "metadata": {}
    },
    {
      "cell_type": "markdown",
      "source": "# 'OBJECTIVES:'\n'List popular languages for Data Science'\n* Jupyter Notebook\n* Gitlab\n* Data science languages\n* Data science libraries",
      "metadata": {}
    },
    {
      "cell_type": "markdown",
      "source": "# 'Some of the commonly used libraries used by Data Scientists include:\n1. Pixie Dust\n2. Kibana\n3. Apache Superset",
      "metadata": {}
    },
    {
      "cell_type": "markdown",
      "source": "# ' Data Science Tools' \n| Tools | Use/Description |\n| -------------| ------ |\n| Weka| data mining |\n| Java-ML | machine learning |\n| Apache MLlib  | deep learning |",
      "metadata": {}
    },
    {
      "cell_type": "code",
      "source": "### 'This a simple arithmetic expression to mutiply then add integers'\n(3*4)+5",
      "metadata": {
        "trusted": true
      },
      "outputs": [
        {
          "execution_count": 11,
          "output_type": "execute_result",
          "data": {
            "text/plain": "17"
          },
          "metadata": {}
        }
      ],
      "execution_count": 11
    },
    {
      "cell_type": "code",
      "source": "# 'This will convert 200 minutes to hours by diving by 60'\n200/60",
      "metadata": {
        "trusted": true
      },
      "outputs": [
        {
          "execution_count": 18,
          "output_type": "execute_result",
          "data": {
            "text/plain": "3.3333333333333335"
          },
          "metadata": {}
        }
      ],
      "execution_count": 18
    },
    {
      "cell_type": "markdown",
      "source": "## 'Author'\nRyan C. Imperial",
      "metadata": {}
    },
    {
      "cell_type": "code",
      "source": "",
      "metadata": {
        "trusted": true
      },
      "outputs": [],
      "execution_count": null
    }
  ]
}